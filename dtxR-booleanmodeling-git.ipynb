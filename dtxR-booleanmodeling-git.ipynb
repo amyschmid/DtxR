{
 "cells": [
  {
   "cell_type": "code",
   "execution_count": 1,
   "metadata": {
    "collapsed": false
   },
   "outputs": [],
   "source": [
    "from numpy import *\n",
    "from matplotlib.pyplot import *"
   ]
  },
  {
   "cell_type": "code",
   "execution_count": 2,
   "metadata": {
    "collapsed": false
   },
   "outputs": [],
   "source": [
    "## logic functions for network with four TF nodes and iron as input to each TF.\n",
    "## This network simulates constant iron environments. Fe = 1 is constant iron sufficiency. Fe = 0 is constant starvation.\n",
    "def fIRON (fe):\n",
    "    return fe\n",
    "\n",
    "def fSIRR(fe, idr1, idr2):\n",
    "    return fe and (( sirr and idr1) or not (idr2))\n",
    "\n",
    "def fIDR2(fe, tror):\n",
    "    return not fe and tror\n",
    "\n",
    "def fTROR(fe, sirr):\n",
    "    return not fe and not sirr\n",
    "    \n",
    "def fIDR1(fe, tror):\n",
    "    return fe and not tror\n",
    "\n"
   ]
  },
  {
   "cell_type": "code",
   "execution_count": 3,
   "metadata": {
    "collapsed": false
   },
   "outputs": [
    {
     "data": {
      "image/png": "[encoded data removed]",
      "text/plain": [
       "<matplotlib.figure.Figure at 0x7f9108d38ac8>"
      ]
     },
     "metadata": {},
     "output_type": "display_data"
    }
   ],
   "source": [
    "##  Simulate the network. Change bracketed 1's and 0's to change the start states.\n",
    "\n",
    "SIRR = [1]\n",
    "IDR2 = [1]\n",
    "TROR = [1]\n",
    "IDR1 = [1]\n",
    "IRON = [1]\n",
    "\n",
    "\n",
    "nodes = SIRR, IDR2, TROR, IDR1, IRON\n",
    "\n",
    "nsteps = 5\n",
    "for i in range(nsteps):\n",
    "    idr1, idr2, tror, sirr, fe = [i[-1] for i in nodes]\n",
    "    \n",
    "    IRON.append(  fIRON (fe) )\n",
    "    SIRR.append(  fSIRR(fe, idr1, idr2) )\n",
    "    IDR2.append(  fIDR2(fe, tror) )\n",
    "    TROR.append( fTROR(fe, sirr) )\n",
    "    IDR1.append( fIDR1(fe, tror) )\n",
    "    \n",
    "    \n",
    "model = array(nodes)\n",
    "imshow(model, interpolation='none', cmap='copper')\n",
    "xlabel('Time units')\n",
    "yticks(range(len(model)), ['SIRR', 'IDR2', 'TROR', 'IDR1', 'IRON'])\n",
    "None\n",
    "\n",
    "##The output of this network model presented in Martinez-Pastor et al., Figure 5A and B\n"
   ]
  },
  {
   "cell_type": "code",
   "execution_count": 4,
   "metadata": {
    "collapsed": false
   },
   "outputs": [],
   "source": [
    "## logic functions for network with four TF nodes and iron as input to each TF.\n",
    "## Changing from AND to OR logic input of sirr and idr1 on sirr node activity.\n",
    "def fIRON (fe):\n",
    "    return fe\n",
    "\n",
    "def fSIRR(fe, idr1, idr2):\n",
    "    return fe and (( sirr or idr1) or not (idr2))\n",
    "\n",
    "def fIDR2(fe, tror):\n",
    "    return not fe and tror\n",
    "\n",
    "def fTROR(fe, sirr):\n",
    "    return not fe and not sirr\n",
    "    \n",
    "def fIDR1(fe, tror):\n",
    "    return fe and not tror\n",
    "\n"
   ]
  },
  {
   "cell_type": "code",
   "execution_count": 5,
   "metadata": {
    "collapsed": false
   },
   "outputs": [
    {
     "data": {
      "image/png": "[encoded data removed]",
      "text/plain": [
       "<matplotlib.figure.Figure at 0x7f9108d38668>"
      ]
     },
     "metadata": {},
     "output_type": "display_data"
    }
   ],
   "source": [
    "##  Simulate the network with alternative logic input to sirr as above. Change bracketed 1's and 0's to change the start states.\n",
    "\n",
    "SIRR = [1]\n",
    "IDR2 = [1]\n",
    "TROR = [1]\n",
    "IDR1 = [1]\n",
    "IRON = [1]\n",
    "\n",
    "\n",
    "nodes = SIRR, IDR2, TROR, IDR1, IRON\n",
    "\n",
    "nsteps = 5\n",
    "for i in range(nsteps):\n",
    "    idr1, idr2, tror, sirr, fe = [i[-1] for i in nodes]\n",
    "    \n",
    "    IRON.append(  fIRON (fe) )\n",
    "    SIRR.append(  fSIRR(fe, idr1, idr2) )\n",
    "    IDR2.append(  fIDR2(fe, tror) )\n",
    "    TROR.append( fTROR(fe, sirr) )\n",
    "    IDR1.append( fIDR1(fe, tror) )\n",
    "    \n",
    "    \n",
    "model = array(nodes)\n",
    "imshow(model, interpolation='none', cmap='copper')\n",
    "xlabel('Time units')\n",
    "yticks(range(len(model)), ['SIRR', 'IDR2', 'TROR', 'IDR1', 'IRON'])\n",
    "None\n",
    "\n",
    "##No difference observed in attractors."
   ]
  },
  {
   "cell_type": "code",
   "execution_count": 6,
   "metadata": {
    "collapsed": true
   },
   "outputs": [],
   "source": [
    "##trying network logic with autorepressive influence to sirR\n",
    "## logic functions for network with four TF nodes and iron as input to each TF\n",
    "def fIRON (fe):\n",
    "    return fe\n",
    "\n",
    "def fSIRR(fe, idr1, idr2):\n",
    "    return not sirr and fe and idr1 or not idr2\n",
    "\n",
    "def fIDR2(fe, tror):\n",
    "    return not fe and tror\n",
    "\n",
    "def fTROR(fe, sirr):\n",
    "    return not fe and not sirr\n",
    "    \n",
    "def fIDR1(fe, tror):\n",
    "    return fe and not tror\n"
   ]
  },
  {
   "cell_type": "code",
   "execution_count": 7,
   "metadata": {
    "collapsed": false
   },
   "outputs": [
    {
     "data": {
      "image/png": "[encoded data removed]",
      "text/plain": [
       "<matplotlib.figure.Figure at 0x7f910593d5c0>"
      ]
     },
     "metadata": {},
     "output_type": "display_data"
    }
   ],
   "source": [
    "##  simulations with sirR autorepression...\n",
    "\n",
    "SIRR = [0]\n",
    "IDR2 = [0]\n",
    "TROR = [0]\n",
    "IDR1 = [1]\n",
    "IRON = [0]\n",
    "\n",
    "\n",
    "nodes = SIRR, IDR2, TROR, IDR1, IRON\n",
    "\n",
    "nsteps = 5\n",
    "for i in range(nsteps):\n",
    "    idr1, idr2, tror, sirr, fe = [i[-1] for i in nodes]\n",
    "    \n",
    "    IRON.append(  fIRON (fe) )\n",
    "    SIRR.append(  fSIRR(fe, idr1, idr2) )\n",
    "    IDR2.append(  fIDR2(fe, tror) )\n",
    "    TROR.append( fTROR(fe, sirr) )\n",
    "    IDR1.append( fIDR1(fe, tror) )\n",
    "    \n",
    "    \n",
    "model = array(nodes)\n",
    "imshow(model, interpolation='none', cmap='copper')\n",
    "xlabel('Time units')\n",
    "yticks(range(len(model)), ['SIRR', 'IDR2', 'TROR', 'IDR1', 'IRON'])\n",
    "None\n",
    "\n",
    "##SirR is on too long during iron starvation. makes more sense for sirr to autoactivate +Fe: quicker on, quicker off +fe."
   ]
  },
  {
   "cell_type": "code",
   "execution_count": 8,
   "metadata": {
    "collapsed": true
   },
   "outputs": [],
   "source": [
    "## adding Fe uptake into the mix for another layer of feedback.\n",
    "## This network topology simulates fluctuating environmental iron.\n",
    "def fIRON (fe, sirr, idr2):\n",
    "    return (idr2) and not sirr\n",
    "\n",
    "def fSIRR(fe, idr1, idr2):\n",
    "    return fe and (( sirr and idr1) or not (idr2))\n",
    "\n",
    "def fIDR2(fe, tror):\n",
    "    return not fe and tror\n",
    "\n",
    "def fTROR(fe, sirr):\n",
    "    return not fe and not sirr\n",
    "    \n",
    "def fIDR1(fe, tror):\n",
    "    return fe and not tror"
   ]
  },
  {
   "cell_type": "code",
   "execution_count": 9,
   "metadata": {
    "collapsed": false
   },
   "outputs": [
    {
     "data": {
      "image/png": "[encoded data removed]",
      "text/plain": [
       "<matplotlib.figure.Figure at 0x7f9108d14be0>"
      ]
     },
     "metadata": {},
     "output_type": "display_data"
    }
   ],
   "source": [
    "##  Simulating iron uptake\n",
    "\n",
    "SIRR = [1]\n",
    "IDR2 = [1]\n",
    "TROR = [1]\n",
    "IDR1 = [1]\n",
    "IRON = [1]\n",
    "\n",
    "\n",
    "nodes = SIRR, IDR2, TROR, IDR1, IRON\n",
    "\n",
    "nsteps = 12\n",
    "for i in range(nsteps):\n",
    "    idr1, idr2, tror, sirr, fe = [i[-1] for i in nodes]\n",
    "    \n",
    "    IRON.append(  fIRON (fe, sirr, idr2) )\n",
    "    SIRR.append(  fSIRR(fe, idr1, idr2) )\n",
    "    IDR2.append(  fIDR2(fe, tror) )\n",
    "    TROR.append( fTROR(fe, sirr) )\n",
    "    IDR1.append( fIDR1(fe, tror) )\n",
    "    \n",
    "    \n",
    "model = array(nodes)\n",
    "imshow(model, interpolation='none', cmap='copper')\n",
    "xlabel('Time units')\n",
    "yticks(range(len(model)), ['SIRR', 'IDR2', 'TROR', 'IDR1', 'IRON'])\n",
    "None\n",
    "\n",
    "##oscillates! This is the final network model presented in Martinez-Pastor et al., Figure 5C and D."
   ]
  },
  {
   "cell_type": "code",
   "execution_count": null,
   "metadata": {
    "collapsed": true
   },
   "outputs": [],
   "source": []
  },
  {
   "cell_type": "code",
   "execution_count": null,
   "metadata": {
    "collapsed": true
   },
   "outputs": [],
   "source": []
  }
 ],
 "metadata": {
  "anaconda-cloud": {},
  "kernelspec": {
   "display_name": "Python 3",
   "language": "python",
   "name": "python3"
  },
  "language_info": {
   "codemirror_mode": {
    "name": "ipython",
    "version": 3
   },
   "file_extension": ".py",
   "mimetype": "text/x-python",
   "name": "python",
   "nbconvert_exporter": "python",
   "pygments_lexer": "ipython3",
   "version": "3.5.2"
  }
 },
 "nbformat": 4,
 "nbformat_minor": 0
}
